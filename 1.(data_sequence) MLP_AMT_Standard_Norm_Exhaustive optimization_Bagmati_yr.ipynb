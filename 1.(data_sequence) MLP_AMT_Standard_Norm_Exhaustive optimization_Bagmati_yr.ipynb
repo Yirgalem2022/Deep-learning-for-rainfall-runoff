{
 "cells": [
  {
   "cell_type": "markdown",
   "id": "92c8329d",
   "metadata": {},
   "source": [
    "# Note: With out considering the input sequence"
   ]
  },
  {
   "cell_type": "markdown",
   "id": "836613ad",
   "metadata": {},
   "source": [
    "# Hyperparameter tuning using model_builder function from tensorflow\n",
    "(After midterm)\n",
    "#(https://www.tensorflow.org/tutorials/keras/keras_tuner)"
   ]
  },
  {
   "cell_type": "code",
   "execution_count": 2,
   "id": "be2d0baf",
   "metadata": {},
   "outputs": [],
   "source": [
    "import numpy as np\n",
    "import pandas as pd\n",
    "\n",
    "### define file path\n",
    "path = 'Non_scaled_6_input_Bagmati_yr.csv'  ####### This excel data is not scaled/normalized\n",
    "## Read CSV file and convert it to dataframe\n",
    "df = pd.read_csv( path, sep = ',', header = 'infer')\n"
   ]
  },
  {
   "cell_type": "raw",
   "id": "a9a8f14d",
   "metadata": {},
   "source": [
    "print(tf.__version__)"
   ]
  },
  {
   "cell_type": "code",
   "execution_count": 3,
   "id": "63e8daaa",
   "metadata": {
    "scrolled": true
   },
   "outputs": [
    {
     "data": {
      "text/html": [
       "<div>\n",
       "<style scoped>\n",
       "    .dataframe tbody tr th:only-of-type {\n",
       "        vertical-align: middle;\n",
       "    }\n",
       "\n",
       "    .dataframe tbody tr th {\n",
       "        vertical-align: top;\n",
       "    }\n",
       "\n",
       "    .dataframe thead th {\n",
       "        text-align: right;\n",
       "    }\n",
       "</style>\n",
       "<table border=\"1\" class=\"dataframe\">\n",
       "  <thead>\n",
       "    <tr style=\"text-align: right;\">\n",
       "      <th></th>\n",
       "      <th>Rt</th>\n",
       "      <th>Rt_1</th>\n",
       "      <th>Rt_2</th>\n",
       "      <th>Rt_3</th>\n",
       "      <th>Rt_4</th>\n",
       "      <th>Rt_5</th>\n",
       "      <th>Qt</th>\n",
       "    </tr>\n",
       "  </thead>\n",
       "  <tbody>\n",
       "    <tr>\n",
       "      <th>0</th>\n",
       "      <td>0.878</td>\n",
       "      <td>25.060</td>\n",
       "      <td>3.613</td>\n",
       "      <td>8.190</td>\n",
       "      <td>1.608</td>\n",
       "      <td>28.160</td>\n",
       "      <td>299.0</td>\n",
       "    </tr>\n",
       "    <tr>\n",
       "      <th>1</th>\n",
       "      <td>0.000</td>\n",
       "      <td>0.878</td>\n",
       "      <td>25.060</td>\n",
       "      <td>3.613</td>\n",
       "      <td>8.190</td>\n",
       "      <td>1.608</td>\n",
       "      <td>182.0</td>\n",
       "    </tr>\n",
       "    <tr>\n",
       "      <th>2</th>\n",
       "      <td>25.527</td>\n",
       "      <td>0.000</td>\n",
       "      <td>0.878</td>\n",
       "      <td>25.060</td>\n",
       "      <td>3.613</td>\n",
       "      <td>8.190</td>\n",
       "      <td>151.0</td>\n",
       "    </tr>\n",
       "    <tr>\n",
       "      <th>3</th>\n",
       "      <td>36.896</td>\n",
       "      <td>25.527</td>\n",
       "      <td>0.000</td>\n",
       "      <td>0.878</td>\n",
       "      <td>25.060</td>\n",
       "      <td>3.613</td>\n",
       "      <td>561.0</td>\n",
       "    </tr>\n",
       "    <tr>\n",
       "      <th>4</th>\n",
       "      <td>6.184</td>\n",
       "      <td>36.896</td>\n",
       "      <td>25.527</td>\n",
       "      <td>0.000</td>\n",
       "      <td>0.878</td>\n",
       "      <td>25.060</td>\n",
       "      <td>384.0</td>\n",
       "    </tr>\n",
       "    <tr>\n",
       "      <th>...</th>\n",
       "      <td>...</td>\n",
       "      <td>...</td>\n",
       "      <td>...</td>\n",
       "      <td>...</td>\n",
       "      <td>...</td>\n",
       "      <td>...</td>\n",
       "      <td>...</td>\n",
       "    </tr>\n",
       "    <tr>\n",
       "      <th>2909</th>\n",
       "      <td>7.115</td>\n",
       "      <td>0.422</td>\n",
       "      <td>7.130</td>\n",
       "      <td>13.781</td>\n",
       "      <td>4.314</td>\n",
       "      <td>18.381</td>\n",
       "      <td>132.0</td>\n",
       "    </tr>\n",
       "    <tr>\n",
       "      <th>2910</th>\n",
       "      <td>3.118</td>\n",
       "      <td>7.115</td>\n",
       "      <td>0.422</td>\n",
       "      <td>7.130</td>\n",
       "      <td>13.781</td>\n",
       "      <td>4.314</td>\n",
       "      <td>107.0</td>\n",
       "    </tr>\n",
       "    <tr>\n",
       "      <th>2911</th>\n",
       "      <td>61.877</td>\n",
       "      <td>3.118</td>\n",
       "      <td>7.115</td>\n",
       "      <td>0.422</td>\n",
       "      <td>7.130</td>\n",
       "      <td>13.781</td>\n",
       "      <td>538.0</td>\n",
       "    </tr>\n",
       "    <tr>\n",
       "      <th>2912</th>\n",
       "      <td>112.900</td>\n",
       "      <td>61.877</td>\n",
       "      <td>3.118</td>\n",
       "      <td>7.115</td>\n",
       "      <td>0.422</td>\n",
       "      <td>7.130</td>\n",
       "      <td>921.0</td>\n",
       "    </tr>\n",
       "    <tr>\n",
       "      <th>2913</th>\n",
       "      <td>20.150</td>\n",
       "      <td>112.900</td>\n",
       "      <td>61.877</td>\n",
       "      <td>3.118</td>\n",
       "      <td>7.115</td>\n",
       "      <td>0.422</td>\n",
       "      <td>2020.0</td>\n",
       "    </tr>\n",
       "  </tbody>\n",
       "</table>\n",
       "<p>2914 rows × 7 columns</p>\n",
       "</div>"
      ],
      "text/plain": [
       "           Rt     Rt_1    Rt_2    Rt_3    Rt_4    Rt_5      Qt\n",
       "0       0.878   25.060   3.613   8.190   1.608  28.160   299.0\n",
       "1       0.000    0.878  25.060   3.613   8.190   1.608   182.0\n",
       "2      25.527    0.000   0.878  25.060   3.613   8.190   151.0\n",
       "3      36.896   25.527   0.000   0.878  25.060   3.613   561.0\n",
       "4       6.184   36.896  25.527   0.000   0.878  25.060   384.0\n",
       "...       ...      ...     ...     ...     ...     ...     ...\n",
       "2909    7.115    0.422   7.130  13.781   4.314  18.381   132.0\n",
       "2910    3.118    7.115   0.422   7.130  13.781   4.314   107.0\n",
       "2911   61.877    3.118   7.115   0.422   7.130  13.781   538.0\n",
       "2912  112.900   61.877   3.118   7.115   0.422   7.130   921.0\n",
       "2913   20.150  112.900  61.877   3.118   7.115   0.422  2020.0\n",
       "\n",
       "[2914 rows x 7 columns]"
      ]
     },
     "execution_count": 3,
     "metadata": {},
     "output_type": "execute_result"
    }
   ],
   "source": [
    "df"
   ]
  },
  {
   "cell_type": "code",
   "execution_count": 4,
   "id": "6422e389",
   "metadata": {},
   "outputs": [
    {
     "data": {
      "text/html": [
       "<div>\n",
       "<style scoped>\n",
       "    .dataframe tbody tr th:only-of-type {\n",
       "        vertical-align: middle;\n",
       "    }\n",
       "\n",
       "    .dataframe tbody tr th {\n",
       "        vertical-align: top;\n",
       "    }\n",
       "\n",
       "    .dataframe thead th {\n",
       "        text-align: right;\n",
       "    }\n",
       "</style>\n",
       "<table border=\"1\" class=\"dataframe\">\n",
       "  <thead>\n",
       "    <tr style=\"text-align: right;\">\n",
       "      <th></th>\n",
       "      <th>Rt</th>\n",
       "      <th>Rt_1</th>\n",
       "      <th>Rt_2</th>\n",
       "      <th>Rt_3</th>\n",
       "      <th>Rt_4</th>\n",
       "      <th>Rt_5</th>\n",
       "      <th>Qt</th>\n",
       "    </tr>\n",
       "  </thead>\n",
       "  <tbody>\n",
       "    <tr>\n",
       "      <th>count</th>\n",
       "      <td>2914.000000</td>\n",
       "      <td>2914.000000</td>\n",
       "      <td>2914.000000</td>\n",
       "      <td>2914.000000</td>\n",
       "      <td>2914.000000</td>\n",
       "      <td>2914.000000</td>\n",
       "      <td>2914.000000</td>\n",
       "    </tr>\n",
       "    <tr>\n",
       "      <th>mean</th>\n",
       "      <td>5.433136</td>\n",
       "      <td>5.434821</td>\n",
       "      <td>5.397316</td>\n",
       "      <td>5.378893</td>\n",
       "      <td>5.378374</td>\n",
       "      <td>5.385596</td>\n",
       "      <td>149.648264</td>\n",
       "    </tr>\n",
       "    <tr>\n",
       "      <th>std</th>\n",
       "      <td>14.030448</td>\n",
       "      <td>14.032511</td>\n",
       "      <td>13.890520</td>\n",
       "      <td>13.851130</td>\n",
       "      <td>13.851243</td>\n",
       "      <td>13.857633</td>\n",
       "      <td>271.208820</td>\n",
       "    </tr>\n",
       "    <tr>\n",
       "      <th>min</th>\n",
       "      <td>0.000000</td>\n",
       "      <td>0.000000</td>\n",
       "      <td>0.000000</td>\n",
       "      <td>0.000000</td>\n",
       "      <td>0.000000</td>\n",
       "      <td>0.000000</td>\n",
       "      <td>5.100000</td>\n",
       "    </tr>\n",
       "    <tr>\n",
       "      <th>25%</th>\n",
       "      <td>0.000000</td>\n",
       "      <td>0.000000</td>\n",
       "      <td>0.000000</td>\n",
       "      <td>0.000000</td>\n",
       "      <td>0.000000</td>\n",
       "      <td>0.000000</td>\n",
       "      <td>16.800000</td>\n",
       "    </tr>\n",
       "    <tr>\n",
       "      <th>50%</th>\n",
       "      <td>0.000000</td>\n",
       "      <td>0.000000</td>\n",
       "      <td>0.000000</td>\n",
       "      <td>0.000000</td>\n",
       "      <td>0.000000</td>\n",
       "      <td>0.000000</td>\n",
       "      <td>41.700000</td>\n",
       "    </tr>\n",
       "    <tr>\n",
       "      <th>75%</th>\n",
       "      <td>4.916000</td>\n",
       "      <td>4.916000</td>\n",
       "      <td>4.864500</td>\n",
       "      <td>4.864500</td>\n",
       "      <td>4.864500</td>\n",
       "      <td>4.864500</td>\n",
       "      <td>195.975000</td>\n",
       "    </tr>\n",
       "    <tr>\n",
       "      <th>max</th>\n",
       "      <td>364.590000</td>\n",
       "      <td>364.590000</td>\n",
       "      <td>364.590000</td>\n",
       "      <td>364.590000</td>\n",
       "      <td>364.590000</td>\n",
       "      <td>364.590000</td>\n",
       "      <td>5030.000000</td>\n",
       "    </tr>\n",
       "  </tbody>\n",
       "</table>\n",
       "</div>"
      ],
      "text/plain": [
       "                Rt         Rt_1         Rt_2         Rt_3         Rt_4  \\\n",
       "count  2914.000000  2914.000000  2914.000000  2914.000000  2914.000000   \n",
       "mean      5.433136     5.434821     5.397316     5.378893     5.378374   \n",
       "std      14.030448    14.032511    13.890520    13.851130    13.851243   \n",
       "min       0.000000     0.000000     0.000000     0.000000     0.000000   \n",
       "25%       0.000000     0.000000     0.000000     0.000000     0.000000   \n",
       "50%       0.000000     0.000000     0.000000     0.000000     0.000000   \n",
       "75%       4.916000     4.916000     4.864500     4.864500     4.864500   \n",
       "max     364.590000   364.590000   364.590000   364.590000   364.590000   \n",
       "\n",
       "              Rt_5           Qt  \n",
       "count  2914.000000  2914.000000  \n",
       "mean      5.385596   149.648264  \n",
       "std      13.857633   271.208820  \n",
       "min       0.000000     5.100000  \n",
       "25%       0.000000    16.800000  \n",
       "50%       0.000000    41.700000  \n",
       "75%       4.864500   195.975000  \n",
       "max     364.590000  5030.000000  "
      ]
     },
     "execution_count": 4,
     "metadata": {},
     "output_type": "execute_result"
    }
   ],
   "source": [
    "df.describe()"
   ]
  },
  {
   "cell_type": "markdown",
   "id": "c46f7922",
   "metadata": {},
   "source": [
    "# 1. Data splitting"
   ]
  },
  {
   "cell_type": "markdown",
   "id": "d63be9e3",
   "metadata": {},
   "source": [
    "##  Train, Validation and Test data \n",
    "###  70% train (2040 data points)\n",
    "###  15% train (436 data points)\n",
    "###  15% train (436 data points)"
   ]
  },
  {
   "cell_type": "code",
   "execution_count": 5,
   "id": "af84fdad",
   "metadata": {},
   "outputs": [],
   "source": [
    "df_train = df.iloc[:2040]\n",
    "\n",
    "df_val = df.iloc[2040:2476] \n",
    "\n",
    "df_test = df.iloc[2476:2912] "
   ]
  },
  {
   "cell_type": "markdown",
   "id": "47c9e738",
   "metadata": {},
   "source": [
    "# 2. Normalization"
   ]
  },
  {
   "cell_type": "code",
   "execution_count": 6,
   "id": "ad7aefc6",
   "metadata": {},
   "outputs": [],
   "source": [
    "import pandas as pd\n",
    "import numpy as np\n",
    "\n",
    "### General function for all the normalization methods\n",
    "\n",
    "def normalize_df(data, norm_method):     \n",
    "\n",
    "    ## Normalize data using specified method\n",
    " \n",
    "    if norm_method == 'minmax':\n",
    "        # Min-Max normalization\n",
    "        data = (data - data.min()) / (data.max() - data.min())\n",
    "    elif norm_method == 'zscore':\n",
    "        # Z-score normalization\n",
    "        mean = data.mean()\n",
    "        std = data.std()\n",
    "        data = (data - mean) / std\n",
    "    elif norm_method == 'max':\n",
    "        # Max normalization\n",
    "        data = 1 - ((data.max() - data)/data.max())\n",
    "    else:\n",
    "        raise ValueError(\"Invalid normalization method. Choose from: 'minmax', 'zscore', 'max'\")\n",
    "    return data\n",
    "\n"
   ]
  },
  {
   "cell_type": "markdown",
   "id": "90b77771",
   "metadata": {},
   "source": [
    "### Standard normalization  (Date sets for training, validation and testing are nromalized separately)"
   ]
  },
  {
   "cell_type": "code",
   "execution_count": 7,
   "id": "a6a95478",
   "metadata": {},
   "outputs": [],
   "source": [
    "## Z_score(standard)\n",
    "df_train_norm = normalize_df(df_train, 'zscore')\n",
    "df_val_norm = normalize_df(df_val, 'zscore')\n",
    "df_test_norm = normalize_df(df_test, 'zscore')"
   ]
  },
  {
   "cell_type": "code",
   "execution_count": 8,
   "id": "5c820969",
   "metadata": {
    "scrolled": true
   },
   "outputs": [
    {
     "data": {
      "text/html": [
       "<div>\n",
       "<style scoped>\n",
       "    .dataframe tbody tr th:only-of-type {\n",
       "        vertical-align: middle;\n",
       "    }\n",
       "\n",
       "    .dataframe tbody tr th {\n",
       "        vertical-align: top;\n",
       "    }\n",
       "\n",
       "    .dataframe thead th {\n",
       "        text-align: right;\n",
       "    }\n",
       "</style>\n",
       "<table border=\"1\" class=\"dataframe\">\n",
       "  <thead>\n",
       "    <tr style=\"text-align: right;\">\n",
       "      <th></th>\n",
       "      <th>Rt</th>\n",
       "      <th>Rt_1</th>\n",
       "      <th>Rt_2</th>\n",
       "      <th>Rt_3</th>\n",
       "      <th>Rt_4</th>\n",
       "      <th>Rt_5</th>\n",
       "      <th>Qt</th>\n",
       "    </tr>\n",
       "  </thead>\n",
       "  <tbody>\n",
       "    <tr>\n",
       "      <th>count</th>\n",
       "      <td>2.040000e+03</td>\n",
       "      <td>2.040000e+03</td>\n",
       "      <td>2.040000e+03</td>\n",
       "      <td>2.040000e+03</td>\n",
       "      <td>2.040000e+03</td>\n",
       "      <td>2.040000e+03</td>\n",
       "      <td>2.040000e+03</td>\n",
       "    </tr>\n",
       "    <tr>\n",
       "      <th>mean</th>\n",
       "      <td>-2.590520e-17</td>\n",
       "      <td>5.329615e-16</td>\n",
       "      <td>-1.793772e-16</td>\n",
       "      <td>5.066753e-17</td>\n",
       "      <td>2.870797e-16</td>\n",
       "      <td>-2.443579e-17</td>\n",
       "      <td>2.166023e-17</td>\n",
       "    </tr>\n",
       "    <tr>\n",
       "      <th>std</th>\n",
       "      <td>1.000000e+00</td>\n",
       "      <td>1.000000e+00</td>\n",
       "      <td>1.000000e+00</td>\n",
       "      <td>1.000000e+00</td>\n",
       "      <td>1.000000e+00</td>\n",
       "      <td>1.000000e+00</td>\n",
       "      <td>1.000000e+00</td>\n",
       "    </tr>\n",
       "    <tr>\n",
       "      <th>min</th>\n",
       "      <td>-3.668091e-01</td>\n",
       "      <td>-3.674980e-01</td>\n",
       "      <td>-3.676080e-01</td>\n",
       "      <td>-3.678887e-01</td>\n",
       "      <td>-3.679488e-01</td>\n",
       "      <td>-3.686857e-01</td>\n",
       "      <td>-5.277226e-01</td>\n",
       "    </tr>\n",
       "    <tr>\n",
       "      <th>25%</th>\n",
       "      <td>-3.668091e-01</td>\n",
       "      <td>-3.674980e-01</td>\n",
       "      <td>-3.676080e-01</td>\n",
       "      <td>-3.678887e-01</td>\n",
       "      <td>-3.679488e-01</td>\n",
       "      <td>-3.686857e-01</td>\n",
       "      <td>-4.900124e-01</td>\n",
       "    </tr>\n",
       "    <tr>\n",
       "      <th>50%</th>\n",
       "      <td>-3.668091e-01</td>\n",
       "      <td>-3.674980e-01</td>\n",
       "      <td>-3.676080e-01</td>\n",
       "      <td>-3.678887e-01</td>\n",
       "      <td>-3.679488e-01</td>\n",
       "      <td>-3.686857e-01</td>\n",
       "      <td>-3.891311e-01</td>\n",
       "    </tr>\n",
       "    <tr>\n",
       "      <th>75%</th>\n",
       "      <td>-5.646773e-02</td>\n",
       "      <td>-5.666901e-02</td>\n",
       "      <td>-5.677197e-02</td>\n",
       "      <td>-5.549026e-02</td>\n",
       "      <td>-5.554508e-02</td>\n",
       "      <td>-5.307515e-02</td>\n",
       "      <td>1.998830e-01</td>\n",
       "    </tr>\n",
       "    <tr>\n",
       "      <th>max</th>\n",
       "      <td>2.456513e+01</td>\n",
       "      <td>2.455419e+01</td>\n",
       "      <td>2.455464e+01</td>\n",
       "      <td>2.455494e+01</td>\n",
       "      <td>2.455530e+01</td>\n",
       "      <td>2.454060e+01</td>\n",
       "      <td>1.705836e+01</td>\n",
       "    </tr>\n",
       "  </tbody>\n",
       "</table>\n",
       "</div>"
      ],
      "text/plain": [
       "                 Rt          Rt_1          Rt_2          Rt_3          Rt_4  \\\n",
       "count  2.040000e+03  2.040000e+03  2.040000e+03  2.040000e+03  2.040000e+03   \n",
       "mean  -2.590520e-17  5.329615e-16 -1.793772e-16  5.066753e-17  2.870797e-16   \n",
       "std    1.000000e+00  1.000000e+00  1.000000e+00  1.000000e+00  1.000000e+00   \n",
       "min   -3.668091e-01 -3.674980e-01 -3.676080e-01 -3.678887e-01 -3.679488e-01   \n",
       "25%   -3.668091e-01 -3.674980e-01 -3.676080e-01 -3.678887e-01 -3.679488e-01   \n",
       "50%   -3.668091e-01 -3.674980e-01 -3.676080e-01 -3.678887e-01 -3.679488e-01   \n",
       "75%   -5.646773e-02 -5.666901e-02 -5.677197e-02 -5.549026e-02 -5.554508e-02   \n",
       "max    2.456513e+01  2.455419e+01  2.455464e+01  2.455494e+01  2.455530e+01   \n",
       "\n",
       "               Rt_5            Qt  \n",
       "count  2.040000e+03  2.040000e+03  \n",
       "mean  -2.443579e-17  2.166023e-17  \n",
       "std    1.000000e+00  1.000000e+00  \n",
       "min   -3.686857e-01 -5.277226e-01  \n",
       "25%   -3.686857e-01 -4.900124e-01  \n",
       "50%   -3.686857e-01 -3.891311e-01  \n",
       "75%   -5.307515e-02  1.998830e-01  \n",
       "max    2.454060e+01  1.705836e+01  "
      ]
     },
     "execution_count": 8,
     "metadata": {},
     "output_type": "execute_result"
    }
   ],
   "source": [
    "###example\n",
    "df_train_norm.describe()"
   ]
  },
  {
   "cell_type": "code",
   "execution_count": 9,
   "id": "928f7297",
   "metadata": {},
   "outputs": [],
   "source": [
    "####training data\n",
    "\n",
    "x_train_no_sq = df_train_norm.iloc[:,0:6]\n",
    "y_train_no_sq = df_train_norm.iloc[:,6]"
   ]
  },
  {
   "cell_type": "code",
   "execution_count": 10,
   "id": "ded67021",
   "metadata": {},
   "outputs": [],
   "source": [
    "## Validation\n",
    "x_val_no_sq = df_val_norm.iloc[:,0:6]\n",
    "y_val_no_sq = df_val_norm.iloc[:,6]"
   ]
  },
  {
   "cell_type": "code",
   "execution_count": 11,
   "id": "96ac7196",
   "metadata": {},
   "outputs": [],
   "source": [
    "###test data\n",
    "x_test_no_sq = df_test_norm .iloc[:,0:6]\n",
    "y_test_no_sq= df_test_norm .iloc[:,6]"
   ]
  },
  {
   "cell_type": "raw",
   "id": "2460df82",
   "metadata": {},
   "source": [
    "### convert the dataframes to numpy arrays\n",
    "\n",
    "df_train_f = df_train_norm.to_numpy()\n",
    "\n",
    "df_val_f = df_val_norm.to_numpy()\n",
    "\n",
    "df_test_f = df_test_norm.to_numpy()"
   ]
  },
  {
   "cell_type": "code",
   "execution_count": 12,
   "id": "ebd86c2e",
   "metadata": {},
   "outputs": [],
   "source": [
    "#### model fitting\n",
    "import keras\n",
    "import tensorflow as tf\n",
    "\n",
    "from tensorflow.keras.models import Sequential\n",
    "from tensorflow.keras.layers import Flatten\n",
    "from tensorflow.keras.layers import Dense\n",
    "from tensorflow.keras.layers import Activation\n",
    "from tensorflow.keras.layers import LSTM\n",
    "from tensorflow.keras.layers import Dropout\n",
    "from tensorflow.keras.models import save_model\n",
    "\n",
    "from tensorflow.keras import initializers\n",
    "\n",
    "from tensorflow.keras import layers\n"
   ]
  },
  {
   "cell_type": "markdown",
   "id": "44250cca",
   "metadata": {},
   "source": [
    "## Hyperparameter tuning using KerasTuner"
   ]
  },
  {
   "cell_type": "raw",
   "id": "cff45c89",
   "metadata": {},
   "source": [
    "!pip install keras-tuner --upgrade"
   ]
  },
  {
   "cell_type": "code",
   "execution_count": 13,
   "id": "68962b84",
   "metadata": {},
   "outputs": [],
   "source": [
    "\n",
    "import keras_tuner as kt\n",
    "\n",
    "\n",
    "from keras_tuner.engine.hyperparameters import HyperParameters\n",
    "from keras_tuner.engine.hyperparameters import Choice,Float"
   ]
  },
  {
   "cell_type": "markdown",
   "id": "d4a55310",
   "metadata": {},
   "source": [
    "### a. Define model (Using model_buider function)\n",
    "### (https://www.tensorflow.org/tutorials/keras/keras_tuner)\n",
    "## MLP"
   ]
  },
  {
   "cell_type": "code",
   "execution_count": 14,
   "id": "12f96e7d",
   "metadata": {},
   "outputs": [],
   "source": [
    "\n",
    "def model_buider(hp):\n",
    "    \n",
    "    model = keras.Sequential()\n",
    "    \n",
    "    model.add(keras.layers.Flatten(input_shape = [6] ))  ### flattening is important when using this function\n",
    " ###1. Tune the number of units in the first Dense layer\n",
    "     \n",
    "    hp_units = hp.Int('units', min_value = 1, max_value = 10, step = 1)\n",
    "    \n",
    "###2. Tune the activation function\n",
    "\n",
    "    hp_activation = hp.Choice(\"activation\", [\"relu\", \"tanh\", \"sigmoid\"])\n",
    "    \n",
    "###3. Tune the weight initialization\n",
    "    hp_initializer=hp.Choice('weight_init', ['he_uniform', 'glorot_uniform', 'random_normal' , 'lecun_normal'])  ##\n",
    "    \n",
    "        \n",
    "    if hp_initializer == 'he_uniform':\n",
    "        init = tf.keras.initializers.he_uniform(seed=1)\n",
    "    elif hp_initializer == 'glorot_uniform':\n",
    "        init = tf.keras.initializers.glorot_uniform(seed=1)\n",
    "    elif hp_initializer == 'random_normal':\n",
    "        init = tf.keras.initializers.RandomNormal(seed=1)\n",
    "    else:\n",
    "        init = tf.keras.initializers.lecun_normal(seed=1)\n",
    "    \n",
    "###4. Tune the number of layers\n",
    "\n",
    "    for i in range(hp.Int(\"num_layers\", 1, 3)):\n",
    "        \n",
    "        model.add(keras.layers.Dense(units = hp_units, activation = hp_activation, kernel_initializer = init))\n",
    "        model.add(Dropout(hp.Float('dropout_rate', 0, 0.3, step=0.1)))\n",
    "    ### Output layer\n",
    "   \n",
    "    model.add(keras.layers.Dense(1, kernel_initializer = init))\n",
    "    model.add(Dropout(hp.Float('dropout_rate', 0, 0.3, step=0.1)))\n",
    "###4. Tune the optimizer \n",
    "\n",
    "    hp_optimizer = hp.Choice(\"optimizer\", ['Adam', 'SGD', 'RMSprop'])\n",
    "\n",
    "    model.compile (\n",
    "                    optimizer = hp_optimizer, ##(learning_rate=hp.Float('learning_rate', 1e-4, 1e-2, sampling='log'))###\n",
    "                  \n",
    "                    loss='mean_squared_error',\n",
    "                   \n",
    "                    metrics=[tf.keras.metrics.MeanSquaredError()])\n",
    "    \n",
    "  \n",
    "    return model\n",
    "\n",
    "    \n",
    " "
   ]
  },
  {
   "cell_type": "markdown",
   "id": "2cf8291c",
   "metadata": {},
   "source": [
    "### b.  Instantiate the tuner and perform hypertuning"
   ]
  },
  {
   "cell_type": "code",
   "execution_count": 16,
   "id": "9a0e94f7",
   "metadata": {},
   "outputs": [],
   "source": [
    "#### Hyperband tuner ( it is a class)\n",
    "\n",
    "tuner = kt.Hyperband(model_buider,\n",
    "                     \n",
    "                     objective= 'mean_squared_error',  ### should be the same as the loss funtion used when compiling\n",
    "                     \n",
    "                     max_epochs = 10,\n",
    "                     \n",
    "                     factor=2,  \n",
    "                     \n",
    "                     seed = 10,\n",
    "                     \n",
    "                     directory='Exhaustive_Opt_norm',\n",
    "                     \n",
    "                     project_name='Test_ds_1')"
   ]
  },
  {
   "cell_type": "code",
   "execution_count": 17,
   "id": "1130c30e",
   "metadata": {},
   "outputs": [],
   "source": [
    "from keras.callbacks import TensorBoard\n",
    "\n",
    "import datetime, os\n",
    "\n",
    "log_dir = \"Exhaustive_Opt_norm/Test2_standa/\" + datetime.datetime.now().strftime(\"%Y%m%d-%H%M%S\")   ### for the purpose of TensorBoard visualization\n"
   ]
  },
  {
   "cell_type": "code",
   "execution_count": 18,
   "id": "f5dd4152",
   "metadata": {},
   "outputs": [],
   "source": [
    "#tb = TensorBoard(log_dir=log_dir)\n",
    "tb = tf.keras.callbacks.TensorBoard(log_dir=log_dir)"
   ]
  },
  {
   "cell_type": "code",
   "execution_count": 19,
   "id": "98db4e15",
   "metadata": {},
   "outputs": [],
   "source": [
    "### Create a callback to stop training early after reaching a certain value for the validation loss.\n",
    "\n",
    "stop_early = tf.keras.callbacks.EarlyStopping(monitor='val_loss', patience=5)"
   ]
  },
  {
   "cell_type": "markdown",
   "id": "9a0cbfcc",
   "metadata": {},
   "source": [
    "### C. Run hyperparameter search "
   ]
  },
  {
   "attachments": {
    "image.png": {
     "image/png": "[encoded data removed]"
    }
   },
   "cell_type": "markdown",
   "id": "bee0363d",
   "metadata": {},
   "source": [
    "# ![image.png](attachment:image.png)"
   ]
  },
  {
   "cell_type": "code",
   "execution_count": 20,
   "id": "8a077542",
   "metadata": {
    "scrolled": false
   },
   "outputs": [
    {
     "name": "stdout",
     "output_type": "stream",
     "text": [
      "\n",
      "Search: Running Trial #1\n",
      "\n",
      "Value             |Best Value So Far |Hyperparameter\n",
      "6                 |?                 |units\n",
      "tanh              |?                 |activation\n",
      "lecun_normal      |?                 |weight_init\n",
      "2                 |?                 |num_layers\n",
      "0                 |?                 |dropout_rate\n",
      "Adam              |?                 |optimizer\n",
      "2                 |?                 |tuner/epochs\n",
      "0                 |?                 |tuner/initial_epoch\n",
      "3                 |?                 |tuner/bracket\n",
      "0                 |?                 |tuner/round\n",
      "\n",
      "Epoch 1/2\n"
     ]
    },
    {
     "ename": "ValueError",
     "evalue": "in user code:\n\n    File \"C:\\ProgramData\\Anaconda3\\lib\\site-packages\\keras\\engine\\training.py\", line 1160, in train_function  *\n        return step_function(self, iterator)\n    File \"C:\\ProgramData\\Anaconda3\\lib\\site-packages\\keras\\engine\\training.py\", line 1146, in step_function  **\n        outputs = model.distribute_strategy.run(run_step, args=(data,))\n    File \"C:\\ProgramData\\Anaconda3\\lib\\site-packages\\keras\\engine\\training.py\", line 1135, in run_step  **\n        outputs = model.train_step(data)\n    File \"C:\\ProgramData\\Anaconda3\\lib\\site-packages\\keras\\engine\\training.py\", line 993, in train_step\n        y_pred = self(x, training=True)\n    File \"C:\\ProgramData\\Anaconda3\\lib\\site-packages\\keras\\utils\\traceback_utils.py\", line 70, in error_handler\n        raise e.with_traceback(filtered_tb) from None\n    File \"C:\\ProgramData\\Anaconda3\\lib\\site-packages\\keras\\engine\\input_spec.py\", line 216, in assert_input_compatibility\n        raise ValueError(\n\n    ValueError: Layer \"sequential\" expects 1 input(s), but it received 2 input tensors. Inputs received: [<tf.Tensor 'IteratorGetNext:0' shape=(None, 6) dtype=float64>, <tf.Tensor 'IteratorGetNext:1' shape=(None, 1) dtype=float32>]\n",
     "output_type": "error",
     "traceback": [
      "\u001b[1;31m---------------------------------------------------------------------------\u001b[0m",
      "\u001b[1;31mValueError\u001b[0m                                Traceback (most recent call last)",
      "\u001b[1;32m~\\AppData\\Local\\Temp/ipykernel_30916/2435435470.py\u001b[0m in \u001b[0;36m<module>\u001b[1;34m\u001b[0m\n\u001b[1;32m----> 1\u001b[1;33m tuner.search( (x_train_no_sq, y_train_no_sq),\n\u001b[0m\u001b[0;32m      2\u001b[0m              \u001b[0mepochs\u001b[0m\u001b[1;33m=\u001b[0m\u001b[1;36m200\u001b[0m\u001b[1;33m,\u001b[0m\u001b[1;33m\u001b[0m\u001b[1;33m\u001b[0m\u001b[0m\n\u001b[0;32m      3\u001b[0m              \u001b[0mvalidation_data\u001b[0m\u001b[1;33m=\u001b[0m\u001b[1;33m(\u001b[0m\u001b[0mx_val_no_sq\u001b[0m\u001b[1;33m,\u001b[0m \u001b[0my_val_no_sq\u001b[0m \u001b[1;33m)\u001b[0m\u001b[1;33m,\u001b[0m\u001b[1;33m\u001b[0m\u001b[1;33m\u001b[0m\u001b[0m\n\u001b[0;32m      4\u001b[0m              callbacks=[stop_early,tb])\n",
      "\u001b[1;32mC:\\ProgramData\\Anaconda3\\lib\\site-packages\\keras_tuner\\engine\\base_tuner.py\u001b[0m in \u001b[0;36msearch\u001b[1;34m(self, *fit_args, **fit_kwargs)\u001b[0m\n\u001b[0;32m    181\u001b[0m \u001b[1;33m\u001b[0m\u001b[0m\n\u001b[0;32m    182\u001b[0m             \u001b[0mself\u001b[0m\u001b[1;33m.\u001b[0m\u001b[0mon_trial_begin\u001b[0m\u001b[1;33m(\u001b[0m\u001b[0mtrial\u001b[0m\u001b[1;33m)\u001b[0m\u001b[1;33m\u001b[0m\u001b[1;33m\u001b[0m\u001b[0m\n\u001b[1;32m--> 183\u001b[1;33m             \u001b[0mresults\u001b[0m \u001b[1;33m=\u001b[0m \u001b[0mself\u001b[0m\u001b[1;33m.\u001b[0m\u001b[0mrun_trial\u001b[0m\u001b[1;33m(\u001b[0m\u001b[0mtrial\u001b[0m\u001b[1;33m,\u001b[0m \u001b[1;33m*\u001b[0m\u001b[0mfit_args\u001b[0m\u001b[1;33m,\u001b[0m \u001b[1;33m**\u001b[0m\u001b[0mfit_kwargs\u001b[0m\u001b[1;33m)\u001b[0m\u001b[1;33m\u001b[0m\u001b[1;33m\u001b[0m\u001b[0m\n\u001b[0m\u001b[0;32m    184\u001b[0m             \u001b[1;31m# `results` is None indicates user updated oracle in `run_trial()`.\u001b[0m\u001b[1;33m\u001b[0m\u001b[1;33m\u001b[0m\u001b[0m\n\u001b[0;32m    185\u001b[0m             \u001b[1;32mif\u001b[0m \u001b[0mresults\u001b[0m \u001b[1;32mis\u001b[0m \u001b[1;32mNone\u001b[0m\u001b[1;33m:\u001b[0m\u001b[1;33m\u001b[0m\u001b[1;33m\u001b[0m\u001b[0m\n",
      "\u001b[1;32mC:\\ProgramData\\Anaconda3\\lib\\site-packages\\keras_tuner\\tuners\\hyperband.py\u001b[0m in \u001b[0;36mrun_trial\u001b[1;34m(self, trial, *fit_args, **fit_kwargs)\u001b[0m\n\u001b[0;32m    382\u001b[0m             \u001b[0mfit_kwargs\u001b[0m\u001b[1;33m[\u001b[0m\u001b[1;34m\"epochs\"\u001b[0m\u001b[1;33m]\u001b[0m \u001b[1;33m=\u001b[0m \u001b[0mhp\u001b[0m\u001b[1;33m.\u001b[0m\u001b[0mvalues\u001b[0m\u001b[1;33m[\u001b[0m\u001b[1;34m\"tuner/epochs\"\u001b[0m\u001b[1;33m]\u001b[0m\u001b[1;33m\u001b[0m\u001b[1;33m\u001b[0m\u001b[0m\n\u001b[0;32m    383\u001b[0m             \u001b[0mfit_kwargs\u001b[0m\u001b[1;33m[\u001b[0m\u001b[1;34m\"initial_epoch\"\u001b[0m\u001b[1;33m]\u001b[0m \u001b[1;33m=\u001b[0m \u001b[0mhp\u001b[0m\u001b[1;33m.\u001b[0m\u001b[0mvalues\u001b[0m\u001b[1;33m[\u001b[0m\u001b[1;34m\"tuner/initial_epoch\"\u001b[0m\u001b[1;33m]\u001b[0m\u001b[1;33m\u001b[0m\u001b[1;33m\u001b[0m\u001b[0m\n\u001b[1;32m--> 384\u001b[1;33m         \u001b[1;32mreturn\u001b[0m \u001b[0msuper\u001b[0m\u001b[1;33m(\u001b[0m\u001b[0mHyperband\u001b[0m\u001b[1;33m,\u001b[0m \u001b[0mself\u001b[0m\u001b[1;33m)\u001b[0m\u001b[1;33m.\u001b[0m\u001b[0mrun_trial\u001b[0m\u001b[1;33m(\u001b[0m\u001b[0mtrial\u001b[0m\u001b[1;33m,\u001b[0m \u001b[1;33m*\u001b[0m\u001b[0mfit_args\u001b[0m\u001b[1;33m,\u001b[0m \u001b[1;33m**\u001b[0m\u001b[0mfit_kwargs\u001b[0m\u001b[1;33m)\u001b[0m\u001b[1;33m\u001b[0m\u001b[1;33m\u001b[0m\u001b[0m\n\u001b[0m\u001b[0;32m    385\u001b[0m \u001b[1;33m\u001b[0m\u001b[0m\n\u001b[0;32m    386\u001b[0m     \u001b[1;32mdef\u001b[0m \u001b[0m_build_model\u001b[0m\u001b[1;33m(\u001b[0m\u001b[0mself\u001b[0m\u001b[1;33m,\u001b[0m \u001b[0mhp\u001b[0m\u001b[1;33m)\u001b[0m\u001b[1;33m:\u001b[0m\u001b[1;33m\u001b[0m\u001b[1;33m\u001b[0m\u001b[0m\n",
      "\u001b[1;32mC:\\ProgramData\\Anaconda3\\lib\\site-packages\\keras_tuner\\engine\\tuner.py\u001b[0m in \u001b[0;36mrun_trial\u001b[1;34m(self, trial, *args, **kwargs)\u001b[0m\n\u001b[0;32m    293\u001b[0m             \u001b[0mcallbacks\u001b[0m\u001b[1;33m.\u001b[0m\u001b[0mappend\u001b[0m\u001b[1;33m(\u001b[0m\u001b[0mmodel_checkpoint\u001b[0m\u001b[1;33m)\u001b[0m\u001b[1;33m\u001b[0m\u001b[1;33m\u001b[0m\u001b[0m\n\u001b[0;32m    294\u001b[0m             \u001b[0mcopied_kwargs\u001b[0m\u001b[1;33m[\u001b[0m\u001b[1;34m\"callbacks\"\u001b[0m\u001b[1;33m]\u001b[0m \u001b[1;33m=\u001b[0m \u001b[0mcallbacks\u001b[0m\u001b[1;33m\u001b[0m\u001b[1;33m\u001b[0m\u001b[0m\n\u001b[1;32m--> 295\u001b[1;33m             \u001b[0mobj_value\u001b[0m \u001b[1;33m=\u001b[0m \u001b[0mself\u001b[0m\u001b[1;33m.\u001b[0m\u001b[0m_build_and_fit_model\u001b[0m\u001b[1;33m(\u001b[0m\u001b[0mtrial\u001b[0m\u001b[1;33m,\u001b[0m \u001b[1;33m*\u001b[0m\u001b[0margs\u001b[0m\u001b[1;33m,\u001b[0m \u001b[1;33m**\u001b[0m\u001b[0mcopied_kwargs\u001b[0m\u001b[1;33m)\u001b[0m\u001b[1;33m\u001b[0m\u001b[1;33m\u001b[0m\u001b[0m\n\u001b[0m\u001b[0;32m    296\u001b[0m \u001b[1;33m\u001b[0m\u001b[0m\n\u001b[0;32m    297\u001b[0m             \u001b[0mhistories\u001b[0m\u001b[1;33m.\u001b[0m\u001b[0mappend\u001b[0m\u001b[1;33m(\u001b[0m\u001b[0mobj_value\u001b[0m\u001b[1;33m)\u001b[0m\u001b[1;33m\u001b[0m\u001b[1;33m\u001b[0m\u001b[0m\n",
      "\u001b[1;32mC:\\ProgramData\\Anaconda3\\lib\\site-packages\\keras_tuner\\engine\\tuner.py\u001b[0m in \u001b[0;36m_build_and_fit_model\u001b[1;34m(self, trial, *args, **kwargs)\u001b[0m\n\u001b[0;32m    220\u001b[0m         \u001b[0mhp\u001b[0m \u001b[1;33m=\u001b[0m \u001b[0mtrial\u001b[0m\u001b[1;33m.\u001b[0m\u001b[0mhyperparameters\u001b[0m\u001b[1;33m\u001b[0m\u001b[1;33m\u001b[0m\u001b[0m\n\u001b[0;32m    221\u001b[0m         \u001b[0mmodel\u001b[0m \u001b[1;33m=\u001b[0m \u001b[0mself\u001b[0m\u001b[1;33m.\u001b[0m\u001b[0m_try_build\u001b[0m\u001b[1;33m(\u001b[0m\u001b[0mhp\u001b[0m\u001b[1;33m)\u001b[0m\u001b[1;33m\u001b[0m\u001b[1;33m\u001b[0m\u001b[0m\n\u001b[1;32m--> 222\u001b[1;33m         \u001b[0mresults\u001b[0m \u001b[1;33m=\u001b[0m \u001b[0mself\u001b[0m\u001b[1;33m.\u001b[0m\u001b[0mhypermodel\u001b[0m\u001b[1;33m.\u001b[0m\u001b[0mfit\u001b[0m\u001b[1;33m(\u001b[0m\u001b[0mhp\u001b[0m\u001b[1;33m,\u001b[0m \u001b[0mmodel\u001b[0m\u001b[1;33m,\u001b[0m \u001b[1;33m*\u001b[0m\u001b[0margs\u001b[0m\u001b[1;33m,\u001b[0m \u001b[1;33m**\u001b[0m\u001b[0mkwargs\u001b[0m\u001b[1;33m)\u001b[0m\u001b[1;33m\u001b[0m\u001b[1;33m\u001b[0m\u001b[0m\n\u001b[0m\u001b[0;32m    223\u001b[0m         tuner_utils.validate_trial_results(\n\u001b[0;32m    224\u001b[0m             \u001b[0mresults\u001b[0m\u001b[1;33m,\u001b[0m \u001b[0mself\u001b[0m\u001b[1;33m.\u001b[0m\u001b[0moracle\u001b[0m\u001b[1;33m.\u001b[0m\u001b[0mobjective\u001b[0m\u001b[1;33m,\u001b[0m \u001b[1;34m\"HyperModel.fit()\"\u001b[0m\u001b[1;33m\u001b[0m\u001b[1;33m\u001b[0m\u001b[0m\n",
      "\u001b[1;32mC:\\ProgramData\\Anaconda3\\lib\\site-packages\\keras_tuner\\engine\\hypermodel.py\u001b[0m in \u001b[0;36mfit\u001b[1;34m(self, hp, model, *args, **kwargs)\u001b[0m\n\u001b[0;32m    138\u001b[0m             \u001b[0mIf\u001b[0m \u001b[1;32mreturn\u001b[0m \u001b[0ma\u001b[0m \u001b[0mfloat\u001b[0m\u001b[1;33m,\u001b[0m \u001b[0mit\u001b[0m \u001b[0mshould\u001b[0m \u001b[0mbe\u001b[0m \u001b[0mthe\u001b[0m\u001b[0;31m \u001b[0m\u001b[0;31m`\u001b[0m\u001b[0mobjective\u001b[0m\u001b[0;31m`\u001b[0m \u001b[0mvalue\u001b[0m\u001b[1;33m.\u001b[0m\u001b[1;33m\u001b[0m\u001b[1;33m\u001b[0m\u001b[0m\n\u001b[0;32m    139\u001b[0m         \"\"\"\n\u001b[1;32m--> 140\u001b[1;33m         \u001b[1;32mreturn\u001b[0m \u001b[0mmodel\u001b[0m\u001b[1;33m.\u001b[0m\u001b[0mfit\u001b[0m\u001b[1;33m(\u001b[0m\u001b[1;33m*\u001b[0m\u001b[0margs\u001b[0m\u001b[1;33m,\u001b[0m \u001b[1;33m**\u001b[0m\u001b[0mkwargs\u001b[0m\u001b[1;33m)\u001b[0m\u001b[1;33m\u001b[0m\u001b[1;33m\u001b[0m\u001b[0m\n\u001b[0m\u001b[0;32m    141\u001b[0m \u001b[1;33m\u001b[0m\u001b[0m\n\u001b[0;32m    142\u001b[0m \u001b[1;33m\u001b[0m\u001b[0m\n",
      "\u001b[1;32mC:\\ProgramData\\Anaconda3\\lib\\site-packages\\keras\\utils\\traceback_utils.py\u001b[0m in \u001b[0;36merror_handler\u001b[1;34m(*args, **kwargs)\u001b[0m\n\u001b[0;32m     68\u001b[0m             \u001b[1;31m# To get the full stack trace, call:\u001b[0m\u001b[1;33m\u001b[0m\u001b[1;33m\u001b[0m\u001b[0m\n\u001b[0;32m     69\u001b[0m             \u001b[1;31m# `tf.debugging.disable_traceback_filtering()`\u001b[0m\u001b[1;33m\u001b[0m\u001b[1;33m\u001b[0m\u001b[0m\n\u001b[1;32m---> 70\u001b[1;33m             \u001b[1;32mraise\u001b[0m \u001b[0me\u001b[0m\u001b[1;33m.\u001b[0m\u001b[0mwith_traceback\u001b[0m\u001b[1;33m(\u001b[0m\u001b[0mfiltered_tb\u001b[0m\u001b[1;33m)\u001b[0m \u001b[1;32mfrom\u001b[0m \u001b[1;32mNone\u001b[0m\u001b[1;33m\u001b[0m\u001b[1;33m\u001b[0m\u001b[0m\n\u001b[0m\u001b[0;32m     71\u001b[0m         \u001b[1;32mfinally\u001b[0m\u001b[1;33m:\u001b[0m\u001b[1;33m\u001b[0m\u001b[1;33m\u001b[0m\u001b[0m\n\u001b[0;32m     72\u001b[0m             \u001b[1;32mdel\u001b[0m \u001b[0mfiltered_tb\u001b[0m\u001b[1;33m\u001b[0m\u001b[1;33m\u001b[0m\u001b[0m\n",
      "\u001b[1;32mC:\\ProgramData\\Anaconda3\\lib\\site-packages\\keras\\engine\\training.py\u001b[0m in \u001b[0;36mtf__train_function\u001b[1;34m(iterator)\u001b[0m\n\u001b[0;32m     13\u001b[0m                 \u001b[1;32mtry\u001b[0m\u001b[1;33m:\u001b[0m\u001b[1;33m\u001b[0m\u001b[1;33m\u001b[0m\u001b[0m\n\u001b[0;32m     14\u001b[0m                     \u001b[0mdo_return\u001b[0m \u001b[1;33m=\u001b[0m \u001b[1;32mTrue\u001b[0m\u001b[1;33m\u001b[0m\u001b[1;33m\u001b[0m\u001b[0m\n\u001b[1;32m---> 15\u001b[1;33m                     \u001b[0mretval_\u001b[0m \u001b[1;33m=\u001b[0m \u001b[0mag__\u001b[0m\u001b[1;33m.\u001b[0m\u001b[0mconverted_call\u001b[0m\u001b[1;33m(\u001b[0m\u001b[0mag__\u001b[0m\u001b[1;33m.\u001b[0m\u001b[0mld\u001b[0m\u001b[1;33m(\u001b[0m\u001b[0mstep_function\u001b[0m\u001b[1;33m)\u001b[0m\u001b[1;33m,\u001b[0m \u001b[1;33m(\u001b[0m\u001b[0mag__\u001b[0m\u001b[1;33m.\u001b[0m\u001b[0mld\u001b[0m\u001b[1;33m(\u001b[0m\u001b[0mself\u001b[0m\u001b[1;33m)\u001b[0m\u001b[1;33m,\u001b[0m \u001b[0mag__\u001b[0m\u001b[1;33m.\u001b[0m\u001b[0mld\u001b[0m\u001b[1;33m(\u001b[0m\u001b[0miterator\u001b[0m\u001b[1;33m)\u001b[0m\u001b[1;33m)\u001b[0m\u001b[1;33m,\u001b[0m \u001b[1;32mNone\u001b[0m\u001b[1;33m,\u001b[0m \u001b[0mfscope\u001b[0m\u001b[1;33m)\u001b[0m\u001b[1;33m\u001b[0m\u001b[1;33m\u001b[0m\u001b[0m\n\u001b[0m\u001b[0;32m     16\u001b[0m                 \u001b[1;32mexcept\u001b[0m\u001b[1;33m:\u001b[0m\u001b[1;33m\u001b[0m\u001b[1;33m\u001b[0m\u001b[0m\n\u001b[0;32m     17\u001b[0m                     \u001b[0mdo_return\u001b[0m \u001b[1;33m=\u001b[0m \u001b[1;32mFalse\u001b[0m\u001b[1;33m\u001b[0m\u001b[1;33m\u001b[0m\u001b[0m\n",
      "\u001b[1;31mValueError\u001b[0m: in user code:\n\n    File \"C:\\ProgramData\\Anaconda3\\lib\\site-packages\\keras\\engine\\training.py\", line 1160, in train_function  *\n        return step_function(self, iterator)\n    File \"C:\\ProgramData\\Anaconda3\\lib\\site-packages\\keras\\engine\\training.py\", line 1146, in step_function  **\n        outputs = model.distribute_strategy.run(run_step, args=(data,))\n    File \"C:\\ProgramData\\Anaconda3\\lib\\site-packages\\keras\\engine\\training.py\", line 1135, in run_step  **\n        outputs = model.train_step(data)\n    File \"C:\\ProgramData\\Anaconda3\\lib\\site-packages\\keras\\engine\\training.py\", line 993, in train_step\n        y_pred = self(x, training=True)\n    File \"C:\\ProgramData\\Anaconda3\\lib\\site-packages\\keras\\utils\\traceback_utils.py\", line 70, in error_handler\n        raise e.with_traceback(filtered_tb) from None\n    File \"C:\\ProgramData\\Anaconda3\\lib\\site-packages\\keras\\engine\\input_spec.py\", line 216, in assert_input_compatibility\n        raise ValueError(\n\n    ValueError: Layer \"sequential\" expects 1 input(s), but it received 2 input tensors. Inputs received: [<tf.Tensor 'IteratorGetNext:0' shape=(None, 6) dtype=float64>, <tf.Tensor 'IteratorGetNext:1' shape=(None, 1) dtype=float32>]\n"
     ]
    }
   ],
   "source": [
    "tuner.search( (x_train_no_sq, y_train_no_sq),\n",
    "             epochs=200, \n",
    "             validation_data=(x_val_no_sq, y_val_no_sq ), \n",
    "             callbacks=[stop_early,tb])"
   ]
  },
  {
   "cell_type": "code",
   "execution_count": null,
   "id": "b7da8d1e",
   "metadata": {
    "scrolled": true
   },
   "outputs": [],
   "source": [
    "tuner.results_summary()"
   ]
  },
  {
   "cell_type": "code",
   "execution_count": null,
   "id": "f3327587",
   "metadata": {},
   "outputs": [],
   "source": [
    "%load_ext tensorboard"
   ]
  },
  {
   "cell_type": "raw",
   "id": "d5e7c722",
   "metadata": {},
   "source": [
    "# Clear any logs from previous runs\n",
    "rm -rf ./Exh_Op_4/"
   ]
  },
  {
   "cell_type": "code",
   "execution_count": null,
   "id": "7ee48d95",
   "metadata": {
    "scrolled": true
   },
   "outputs": [],
   "source": [
    "%tensorboard --logdir AMT_Exhaustive_optimization/Test1"
   ]
  },
  {
   "cell_type": "markdown",
   "id": "196dddbd",
   "metadata": {},
   "source": [
    "## d.  get the optimal hyperparameters"
   ]
  },
  {
   "cell_type": "code",
   "execution_count": null,
   "id": "ed5914c8",
   "metadata": {},
   "outputs": [],
   "source": [
    "\n",
    "best_hps=tuner.get_best_hyperparameters(num_trials=1)[0]\n",
    "\n",
    "# print(f\"\"\"\n",
    "# The hyperparameter search is complete. The optimal number of units in the first densely-connected\n",
    "# layer is {best_hps.get('units')} and the optimal learning rate for the optimizer\n",
    "# is {best_hps.get('learning_rate')}.\n",
    "# \"\"\")\n",
    "\n",
    "print(f\"\"\"\n",
    "The hyperparameter search is complete. The optimal number of units in the first densely-connected\n",
    "layer is {best_hps.get('units')}, the optimal activation function is {best_hps.get('activation')}, the optimal weight initialization is {best_hps.get('weight_init')} and the optimal optimizer is {best_hps.get('optimizer')}.\n",
    "\"\"\")\n",
    "\n"
   ]
  },
  {
   "cell_type": "markdown",
   "id": "57e40c5f",
   "metadata": {},
   "source": [
    "## e. Train the model using the best model"
   ]
  },
  {
   "cell_type": "code",
   "execution_count": null,
   "id": "1da2617d",
   "metadata": {},
   "outputs": [],
   "source": [
    "model = tuner.hypermodel.build(best_hps)\n"
   ]
  },
  {
   "cell_type": "code",
   "execution_count": null,
   "id": "0a43f7e9",
   "metadata": {},
   "outputs": [],
   "source": [
    "### model training \n",
    "\n",
    "mlp_amt_1 = model.fit(X_train, y_train, epochs=300, validation_data = (X_val, y_val), shuffle = 0)\n"
   ]
  },
  {
   "cell_type": "raw",
   "id": "43c8668b",
   "metadata": {},
   "source": [
    "### To find out how much time the model is taking to train\n",
    "### Think about this one more\n",
    "import time\n",
    "start_time = time.time()\n",
    "tuner.search(X_train, y_train, validation_data=(X_val, y_val))\n",
    "end_time = time.time()\n",
    "\n",
    "elapsed_time = end_time - start_time\n",
    "print(\"Time elapsed: {:.2f} seconds\".format(elapsed_time))"
   ]
  },
  {
   "cell_type": "code",
   "execution_count": null,
   "id": "16b6edf5",
   "metadata": {},
   "outputs": [],
   "source": [
    "model.summary()   #### this shows us that the number of layers are 3 in this MLP model"
   ]
  },
  {
   "cell_type": "code",
   "execution_count": null,
   "id": "8994c06a",
   "metadata": {},
   "outputs": [],
   "source": [
    "#### find the best epoch by looking in to the validation loss\n",
    "\n",
    "val_acc_per_epoch = mlp_amt_1.history['val_loss']   \n",
    "\n",
    "#### 'val_loss' should align with the objective function used when applying 'tuner.search' (both should be loss or both accuracy)\n",
    "\n",
    "best_epoch = val_acc_per_epoch.index(min(val_acc_per_epoch)) + 1\n",
    "\n",
    "print('Best epoch: %d' % (best_epoch,))"
   ]
  },
  {
   "cell_type": "code",
   "execution_count": null,
   "id": "3f210a64",
   "metadata": {},
   "outputs": [],
   "source": [
    "### Re-instantiate the hypermodel and train it with the optimal number of epochs from above.\n",
    "\n",
    "hypermodel = tuner.hypermodel.build(best_hps)\n",
    "\n",
    "# Retrain the model\n",
    "\n",
    "hypermodel.fit(X_train, y_train, epochs= best_epoch, verbose = 1, validation_data=(X_val, y_val), shuffle = False) \n",
    "\n",
    "# hypermodel.fit(X_train, y_train, epochs= 250, verbose = 1, validation_data=(X_val, y_val), shuffle = False) \n"
   ]
  },
  {
   "cell_type": "markdown",
   "id": "df5f6278",
   "metadata": {},
   "source": [
    "## f. Test best model"
   ]
  },
  {
   "cell_type": "code",
   "execution_count": null,
   "id": "edd7e1e4",
   "metadata": {},
   "outputs": [],
   "source": [
    "\n",
    "eval_result = hypermodel.evaluate(X_test, y_test)\n",
    "\n",
    "print(\"[test loss, test accuracy]:\", eval_result)"
   ]
  },
  {
   "cell_type": "code",
   "execution_count": null,
   "id": "b94b734e",
   "metadata": {},
   "outputs": [],
   "source": [
    "#Y_pred = hypermodel.predict(X_test)   ### results from the hypermodel are giving fluctuating results\n",
    "Y_pred = hypermodel.predict(X_test)   #### this is giving betetr result(more stable)"
   ]
  },
  {
   "cell_type": "code",
   "execution_count": null,
   "id": "e1bad1c9",
   "metadata": {},
   "outputs": [],
   "source": [
    "Y_pred"
   ]
  },
  {
   "cell_type": "code",
   "execution_count": null,
   "id": "772756e4",
   "metadata": {},
   "outputs": [],
   "source": [
    "y_test"
   ]
  },
  {
   "cell_type": "code",
   "execution_count": null,
   "id": "9743bf2f",
   "metadata": {},
   "outputs": [],
   "source": [
    "y_test.shape"
   ]
  },
  {
   "cell_type": "code",
   "execution_count": null,
   "id": "807d6ab1",
   "metadata": {},
   "outputs": [],
   "source": [
    "print(y_test[:,:-1].shape)   \n",
    "print(y_test[:,1:2].shape)"
   ]
  },
  {
   "cell_type": "code",
   "execution_count": null,
   "id": "0f456956",
   "metadata": {},
   "outputs": [],
   "source": [
    "y_test[:,-1:]    ##### all rows and all columns including -1(which is the last column)"
   ]
  },
  {
   "cell_type": "markdown",
   "id": "bf46eefa",
   "metadata": {},
   "source": [
    "## Evaluation metics"
   ]
  },
  {
   "cell_type": "code",
   "execution_count": null,
   "id": "8d285aa8",
   "metadata": {},
   "outputs": [],
   "source": [
    "###nse\n",
    "\n",
    "import hydroeval as he\n",
    "nse = he.evaluator(he.nse, Y_pred, y_test[:,-1:]  )\n",
    "print(nse)"
   ]
  },
  {
   "cell_type": "code",
   "execution_count": null,
   "id": "3d3e8c79",
   "metadata": {},
   "outputs": [],
   "source": [
    "##rmse\n",
    "rmse = he.evaluator(he.rmse, Y_pred, y_test[:,-1:]  )\n",
    "print(rmse)"
   ]
  },
  {
   "cell_type": "code",
   "execution_count": null,
   "id": "8ed66f5c",
   "metadata": {},
   "outputs": [],
   "source": [
    "###logrmse\n",
    "from sklearn.metrics import mean_squared_error\n",
    "#### log of predicted values\n",
    "y_pred_lg = np.log1p(Y_pred)\n",
    "\n",
    "#### log of test values\n",
    "y_test_lg = np.log1p(y_test[:,-1:])\n"
   ]
  },
  {
   "cell_type": "code",
   "execution_count": null,
   "id": "6c99e1b3",
   "metadata": {},
   "outputs": [],
   "source": [
    "##calculate mse\n",
    "mse = mean_squared_error(y_pred_lg, y_test_lg)\n",
    "rmse_lg = np.sqrt(mse)   \n",
    "print(rmse_lg)"
   ]
  },
  {
   "cell_type": "markdown",
   "id": "69a22555",
   "metadata": {},
   "source": [
    "## g. plot"
   ]
  },
  {
   "cell_type": "code",
   "execution_count": null,
   "id": "c06217e0",
   "metadata": {
    "scrolled": true
   },
   "outputs": [],
   "source": [
    "import matplotlib.pyplot as plt\n",
    "# plt.plot(Q_pred)\n",
    "# plt.plot(y_test)\n",
    "\n",
    "plt.figure(figsize = (16, 12))\n",
    "\n",
    "plt.subplot(2, 1, 1)\n",
    "\n",
    "plt.plot(Y_pred[:,-1],'b', label = \"Predicted\")\n",
    "\n",
    "plt.plot(y_test[:,-1], 'm',  label = \"Observed\")  \n",
    "\n",
    "plt.legend()\n",
    "plt.grid()\n",
    "\n",
    "plt.subplot(2,1,2)\n",
    "\n",
    "plt.plot(Y_pred[:,-1] - y_test[:,-1],'r', label = \"Error\")\n",
    "\n",
    "plt.legend()\n",
    "\n",
    "plt.grid()"
   ]
  },
  {
   "cell_type": "markdown",
   "id": "b2540bb4",
   "metadata": {},
   "source": [
    "##  save_model"
   ]
  },
  {
   "cell_type": "raw",
   "id": "1bc8d0b0",
   "metadata": {},
   "source": [
    "save_model(Y_pred,'MLP_hT_1.h5')  #### recommended to save as .h5 file"
   ]
  },
  {
   "cell_type": "markdown",
   "id": "847789c1",
   "metadata": {},
   "source": [
    "## h. Denormalize the data"
   ]
  },
  {
   "cell_type": "code",
   "execution_count": null,
   "id": "33bf1903",
   "metadata": {},
   "outputs": [],
   "source": [
    "#### Original data\n",
    "df_train_norm\n",
    "\n",
    "# df_val_f\n",
    "\n",
    "# df_test_f"
   ]
  },
  {
   "cell_type": "code",
   "execution_count": null,
   "id": "cc393bda",
   "metadata": {},
   "outputs": [],
   "source": [
    "### normalized data after model training\n",
    "Y_pred    #### model out put\n",
    "# y_obser = y_test[:,-1:]      ## observed discharge"
   ]
  },
  {
   "cell_type": "code",
   "execution_count": null,
   "id": "e65c5bc7",
   "metadata": {},
   "outputs": [],
   "source": [
    "def denormalize(data, original_data, type='min_max'):   ### default is min-max in this case(there is no reason behind this)\n",
    "\n",
    "    if type == 'min_max':\n",
    "        min = np.min(original_data)\n",
    "        max = np.max(original_data)\n",
    "        data = data * (max - min) + min\n",
    "    elif type == 'z_score':\n",
    "        mean = np.mean(original_data)\n",
    "        std = np.std(original_data)\n",
    "        data = data * std + mean\n",
    "    elif type == 'max':                \n",
    "        max = np.max(original_data)\n",
    "        data = data * max\n",
    "    else:\n",
    "        raise ValueError(\"Invalid normalization type. Choose either 'max', 'min_max', or 'z_score'.\")\n",
    "    return data"
   ]
  },
  {
   "cell_type": "code",
   "execution_count": null,
   "id": "ac72f573",
   "metadata": {},
   "outputs": [],
   "source": [
    "Y_observ_unnorm = df_test['Qt']"
   ]
  },
  {
   "cell_type": "code",
   "execution_count": null,
   "id": "d48edcf4",
   "metadata": {},
   "outputs": [],
   "source": [
    "Y_observ_unnorm = Y_observ_unnorm.to_numpy()"
   ]
  },
  {
   "cell_type": "markdown",
   "id": "b1d3ce52",
   "metadata": {},
   "source": [
    "###  denormalized predicted discharge"
   ]
  },
  {
   "cell_type": "code",
   "execution_count": null,
   "id": "a44115a1",
   "metadata": {},
   "outputs": [],
   "source": [
    "### Standard denormalization (becasue we used standard(z-score) in this experiment)\n",
    "\n",
    "Y_pred_denorm = denormalize(Y_pred, Y_observ_unnorm, type='z_score')"
   ]
  },
  {
   "cell_type": "code",
   "execution_count": null,
   "id": "0a38323c",
   "metadata": {},
   "outputs": [],
   "source": [
    "print(Y_pred_denorm)\n",
    "print(Y_pred_denorm.shape)"
   ]
  },
  {
   "cell_type": "markdown",
   "id": "548e00bc",
   "metadata": {},
   "source": [
    "### denormalized Observed discharge"
   ]
  },
  {
   "cell_type": "code",
   "execution_count": null,
   "id": "7724a719",
   "metadata": {},
   "outputs": [],
   "source": [
    "len(y_test)"
   ]
  },
  {
   "cell_type": "code",
   "execution_count": null,
   "id": "e123fd27",
   "metadata": {},
   "outputs": [],
   "source": [
    "Y_obser_denorm = denormalize(y_test, Y_observ_unnorm, type='z_score')"
   ]
  },
  {
   "cell_type": "code",
   "execution_count": null,
   "id": "5c810baf",
   "metadata": {},
   "outputs": [],
   "source": [
    "Y_obser_denorm "
   ]
  },
  {
   "cell_type": "markdown",
   "id": "04f444bf",
   "metadata": {},
   "source": [
    "# Plot the denomalized data"
   ]
  },
  {
   "cell_type": "code",
   "execution_count": null,
   "id": "3c9fc396",
   "metadata": {},
   "outputs": [],
   "source": [
    "plt.figure(figsize = (16, 12))\n",
    "\n",
    "plt.subplot(2, 1, 1)\n",
    "\n",
    "plt.plot(Y_pred_denorm,'b', label = \"Predicted\")\n",
    "\n",
    "plt.plot(Y_obser_denorm , 'm',  label = \"Observed\")  \n",
    "\n",
    "plt.legend()\n",
    "plt.grid()\n",
    "\n",
    "plt.subplot(2,1,2)\n",
    "\n",
    "plt.plot(Y_pred_denorm - Y_obser_denorm ,'r', label = \"Error\")\n",
    "\n",
    "plt.legend()\n",
    "\n",
    "plt.grid()"
   ]
  },
  {
   "cell_type": "markdown",
   "id": "312406a0",
   "metadata": {},
   "source": [
    "### NSE after denormalization"
   ]
  },
  {
   "cell_type": "code",
   "execution_count": null,
   "id": "c763ee14",
   "metadata": {},
   "outputs": [],
   "source": [
    "nse_d = he.evaluator(he.nse, Y_pred_denorm , Y_obser_denorm  )\n",
    "print(nse_d)"
   ]
  },
  {
   "cell_type": "markdown",
   "id": "954b9dc7",
   "metadata": {},
   "source": [
    "### RMSE after denormalization (in m3/sec)"
   ]
  },
  {
   "cell_type": "code",
   "execution_count": null,
   "id": "c43f662d",
   "metadata": {},
   "outputs": [],
   "source": [
    "#### rmse in m3/sec\n",
    "rmse_d = he.evaluator(he.rmse, Y_pred_denorm, Y_obser_denorm)\n",
    "print(rmse_d)    ### "
   ]
  },
  {
   "cell_type": "code",
   "execution_count": null,
   "id": "65482b77",
   "metadata": {},
   "outputs": [],
   "source": []
  }
 ],
 "metadata": {
  "kernelspec": {
   "display_name": "Python 3 (ipykernel)",
   "language": "python",
   "name": "python3"
  },
  "language_info": {
   "codemirror_mode": {
    "name": "ipython",
    "version": 3
   },
   "file_extension": ".py",
   "mimetype": "text/x-python",
   "name": "python",
   "nbconvert_exporter": "python",
   "pygments_lexer": "ipython3",
   "version": "3.9.7"
  }
 },
 "nbformat": 4,
 "nbformat_minor": 5
}
